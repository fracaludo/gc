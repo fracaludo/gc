{
 "cells": [
  {
   "cell_type": "code",
   "execution_count": 2,
   "metadata": {},
   "outputs": [
    {
     "name": "stdout",
     "output_type": "stream",
     "text": [
      "Solved ε_mf: 0.65625\n"
     ]
    }
   ],
   "source": [
    "import numpy as np\n",
    "from scipy.optimize import fsolve\n",
    "\n",
    "# Given constants (replace these with actual values)\n",
    "Dp = 0.00218    # Particle diameter [m]\n",
    "v_mf = 0.0374  # Minimum fluidization velocity [m/s] experimental value \n",
    "rho = 997    # Fluid density [kg/m^3]\n",
    "rho_p = 1531.04  # Particle density [kg/m^3]\n",
    "g = 9.81      # Gravity [m/s^2]\n",
    "mu = 0.00089    # Fluid viscosity [Pa.s]\n",
    "phi_s = 1   # Sphericity \n",
    "\n",
    "# Define the equation to solve\n",
    "def equation(epsilon_mf):\n",
    "    term1 = (1.75 * Dp**2 * v_mf**2 * rho**2) / (phi_s * epsilon_mf**3 * mu**2)\n",
    "    term2 = (150 * (1 - epsilon_mf) * Dp * v_mf * rho) / (phi_s**2 * epsilon_mf**3 * mu)\n",
    "    term3 = (Dp**3 * rho * (rho_p - rho) * g) / (mu**2)\n",
    "    return term1 + term2 - term3\n",
    "\n",
    "# Initial guess for epsilon_mf (between 0.4 and 0.6)\n",
    "epsilon_mf_guess = 0.5\n",
    "\n",
    "# Solve for epsilon_mf\n",
    "epsilon_mf_solution = fsolve(equation, epsilon_mf_guess)\n",
    "\n",
    "# Print the result\n",
    "print(f\"Solved ε_mf: {epsilon_mf_solution[0]:.5f}\")"
   ]
  },
  {
   "cell_type": "code",
   "execution_count": 3,
   "metadata": {},
   "outputs": [
    {
     "name": "stdout",
     "output_type": "stream",
     "text": [
      "Solved ε_mf: 0.66091\n"
     ]
    }
   ],
   "source": [
    "import numpy as np\n",
    "from scipy.optimize import fsolve\n",
    "\n",
    "# Given constants (replace these with actual values)\n",
    "Dp = 0.0025    # Particle diameter [m]\n",
    "v_mf = 0.041  # Minimum fluidization velocity [m/s] experimental value \n",
    "rho = 997    # Fluid density [kg/m^3]\n",
    "rho_p = 1516.1  # Particle density [kg/m^3]\n",
    "g = 9.81      # Gravity [m/s^2]\n",
    "mu = 0.00089    # Fluid viscosity [Pa.s]\n",
    "phi_s = 1   # Sphericity \n",
    "\n",
    "# Define the equation to solve\n",
    "def equation(epsilon_mf):\n",
    "    term1 = (1.75 * Dp**2 * v_mf**2 * rho**2) / (phi_s * epsilon_mf**3 * mu**2)\n",
    "    term2 = (150 * (1 - epsilon_mf) * Dp * v_mf * rho) / (phi_s**2 * epsilon_mf**3 * mu)\n",
    "    term3 = (Dp**3 * rho * (rho_p - rho) * g) / (mu**2)\n",
    "    return term1 + term2 - term3\n",
    "\n",
    "# Initial guess for epsilon_mf (between 0.4 and 0.6)\n",
    "epsilon_mf_guess = 0.5\n",
    "\n",
    "# Solve for epsilon_mf\n",
    "epsilon_mf_solution = fsolve(equation, epsilon_mf_guess)\n",
    "\n",
    "# Print the result\n",
    "print(f\"Solved ε_mf: {epsilon_mf_solution[0]:.5f}\")"
   ]
  }
 ],
 "metadata": {
  "kernelspec": {
   "display_name": "ppchem",
   "language": "python",
   "name": "python3"
  },
  "language_info": {
   "codemirror_mode": {
    "name": "ipython",
    "version": 3
   },
   "file_extension": ".py",
   "mimetype": "text/x-python",
   "name": "python",
   "nbconvert_exporter": "python",
   "pygments_lexer": "ipython3",
   "version": "3.10.14"
  }
 },
 "nbformat": 4,
 "nbformat_minor": 2
}
