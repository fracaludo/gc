{
 "cells": [
  {
   "cell_type": "code",
   "execution_count": 5,
   "metadata": {},
   "outputs": [
    {
     "name": "stdout",
     "output_type": "stream",
     "text": [
      "Solved v'_mf: 0.04810 m/s\n"
     ]
    }
   ],
   "source": [
    "import numpy as np\n",
    "from scipy.optimize import fsolve\n",
    "\n",
    "# Given constants\n",
    "Dp = 0.00218    # Particle diameter [m]\n",
    "epsilon_mf = 0.748  # Minimum fluidization void fraction from experimental setup\n",
    "rho = 997    # Fluid density [kg/m^3]\n",
    "rho_p = 1531.04  # Particle density [kg/m^3]\n",
    "g = 9.81      # Gravity [m/s^2]\n",
    "mu = 0.00089    # Fluid viscosity [Pa.s]\n",
    "phi_s = 1   # Sphericity \n",
    "\n",
    "\n",
    "def equation(v_mf):\n",
    "    term1 = (1.75 * Dp**2 * v_mf**2 * rho**2) / (phi_s * epsilon_mf**3 * mu**2)\n",
    "    term2 = (150 * (1 - epsilon_mf) * Dp * v_mf * rho) / (phi_s**2 * epsilon_mf**3 * mu)\n",
    "    term3 = (Dp**3 * rho * (rho_p - rho) * g) / (mu**2)\n",
    "    return term1 + term2 - term3\n",
    "\n",
    "v_mf_guess = 0.01  # Initial guess in m/s\n",
    "\n",
    "# Solve for v_mf\n",
    "v_mf_solution = fsolve(equation, v_mf_guess)\n",
    "\n",
    "print(f\"Solved v'_mf: {v_mf_solution[0]:.5f} m/s\")\n"
   ]
  },
  {
   "cell_type": "code",
   "execution_count": 6,
   "metadata": {},
   "outputs": [
    {
     "name": "stdout",
     "output_type": "stream",
     "text": [
      "Solved v'_mf: 0.05067 m/s\n"
     ]
    }
   ],
   "source": [
    "import numpy as np\n",
    "from scipy.optimize import fsolve\n",
    "\n",
    "# Given constants\n",
    "Dp = 0.0025    # Particle diameter [m]\n",
    "epsilon_mf = 0.741  # Minimum fluidization void fraction from experimental value \n",
    "rho = 997    # Fluid density [kg/m^3]\n",
    "rho_p = 1516.1  # Particle density [kg/m^3]\n",
    "g = 9.81      # Gravity [m/s^2]\n",
    "mu = 0.00089    # Fluid viscosity [Pa.s]\n",
    "phi_s = 1   # Sphericity \n",
    "\n",
    "\n",
    "def equation(v_mf):\n",
    "    term1 = (1.75 * Dp**2 * v_mf**2 * rho**2) / (phi_s * epsilon_mf**3 * mu**2)\n",
    "    term2 = (150 * (1 - epsilon_mf) * Dp * v_mf * rho) / (phi_s**2 * epsilon_mf**3 * mu)\n",
    "    term3 = (Dp**3 * rho * (rho_p - rho) * g) / (mu**2)\n",
    "    return term1 + term2 - term3\n",
    "\n",
    "v_mf_guess = 0.01  # Initial guess in m/s\n",
    "\n",
    "# Solve for v_mf\n",
    "v_mf_solution = fsolve(equation, v_mf_guess)\n",
    "\n",
    "\n",
    "print(f\"Solved v'_mf: {v_mf_solution[0]:.5f} m/s\")\n"
   ]
  },
  {
   "cell_type": "code",
   "execution_count": 7,
   "metadata": {},
   "outputs": [
    {
     "name": "stdout",
     "output_type": "stream",
     "text": [
      "Solved v'_mf: 0.04586 m/s\n"
     ]
    }
   ],
   "source": [
    "import numpy as np\n",
    "from scipy.optimize import fsolve\n",
    "\n",
    "# Given constants\n",
    "Dp = 0.002    # Particle diameter [m]\n",
    "epsilon_mf = 0.750  # Minimum fluidization void fraction from experimental value \n",
    "rho = 997    # Fluid density [kg/m^3]\n",
    "rho_p = 1532.8  # Particle density [kg/m^3]\n",
    "g = 9.81      # Gravity [m/s^2]\n",
    "mu = 0.00089    # Fluid viscosity [Pa.s]\n",
    "phi_s = 1   # Sphericity \n",
    "\n",
    "\n",
    "def equation(v_mf):\n",
    "    term1 = (1.75 * Dp**2 * v_mf**2 * rho**2) / (phi_s * epsilon_mf**3 * mu**2)\n",
    "    term2 = (150 * (1 - epsilon_mf) * Dp * v_mf * rho) / (phi_s**2 * epsilon_mf**3 * mu)\n",
    "    term3 = (Dp**3 * rho * (rho_p - rho) * g) / (mu**2)\n",
    "    return term1 + term2 - term3\n",
    "\n",
    "v_mf_guess = 0.01  # Initial guess in m/s\n",
    "\n",
    "# Solve for v_mf\n",
    "v_mf_solution = fsolve(equation, v_mf_guess)\n",
    "\n",
    "\n",
    "print(f\"Solved v'_mf: {v_mf_solution[0]:.5f} m/s\")\n"
   ]
  },
  {
   "cell_type": "code",
   "execution_count": 8,
   "metadata": {},
   "outputs": [
    {
     "name": "stdout",
     "output_type": "stream",
     "text": [
      "Solved v'_mf: 0.05597 m/s\n"
     ]
    }
   ],
   "source": [
    "import numpy as np\n",
    "from scipy.optimize import fsolve\n",
    "\n",
    "# Given constants\n",
    "Dp = 0.003    # Particle diameter [m]\n",
    "epsilon_mf = 0.733  # Minimum fluidization void fraction from experimental value \n",
    "rho = 997    # Fluid density [kg/m^3]\n",
    "rho_p = 1525.9  # Particle density [kg/m^3]\n",
    "g = 9.81      # Gravity [m/s^2]\n",
    "mu = 0.00089    # Fluid viscosity [Pa.s]\n",
    "phi_s = 1   # Sphericity \n",
    "\n",
    "\n",
    "def equation(v_mf):\n",
    "    term1 = (1.75 * Dp**2 * v_mf**2 * rho**2) / (phi_s * epsilon_mf**3 * mu**2)\n",
    "    term2 = (150 * (1 - epsilon_mf) * Dp * v_mf * rho) / (phi_s**2 * epsilon_mf**3 * mu)\n",
    "    term3 = (Dp**3 * rho * (rho_p - rho) * g) / (mu**2)\n",
    "    return term1 + term2 - term3\n",
    "\n",
    "v_mf_guess = 0.01  # Initial guess in m/s\n",
    "\n",
    "# Solve for v_mf\n",
    "v_mf_solution = fsolve(equation, v_mf_guess)\n",
    "\n",
    "\n",
    "print(f\"Solved v'_mf: {v_mf_solution[0]:.5f} m/s\")\n"
   ]
  },
  {
   "cell_type": "code",
   "execution_count": 9,
   "metadata": {},
   "outputs": [
    {
     "name": "stdout",
     "output_type": "stream",
     "text": [
      "Solved v'_mf: 0.06574 m/s\n"
     ]
    }
   ],
   "source": [
    "import numpy as np\n",
    "from scipy.optimize import fsolve\n",
    "\n",
    "# Given constants\n",
    "Dp = 0.004    # Particle diameter [m]\n",
    "epsilon_mf = 0.741  # Minimum fluidization void fraction from experimental value \n",
    "rho = 997    # Fluid density [kg/m^3]\n",
    "rho_p = 1504.9  # Particle density [kg/m^3]\n",
    "g = 9.81      # Gravity [m/s^2]\n",
    "mu = 0.00089    # Fluid viscosity [Pa.s]\n",
    "phi_s = 1   # Sphericity \n",
    "\n",
    "\n",
    "def equation(v_mf):\n",
    "    term1 = (1.75 * Dp**2 * v_mf**2 * rho**2) / (phi_s * epsilon_mf**3 * mu**2)\n",
    "    term2 = (150 * (1 - epsilon_mf) * Dp * v_mf * rho) / (phi_s**2 * epsilon_mf**3 * mu)\n",
    "    term3 = (Dp**3 * rho * (rho_p - rho) * g) / (mu**2)\n",
    "    return term1 + term2 - term3\n",
    "\n",
    "v_mf_guess = 0.01  # Initial guess in m/s\n",
    "\n",
    "# Solve for v_mf\n",
    "v_mf_solution = fsolve(equation, v_mf_guess)\n",
    "\n",
    "\n",
    "print(f\"Solved v'_mf: {v_mf_solution[0]:.5f} m/s\")\n"
   ]
  }
 ],
 "metadata": {
  "kernelspec": {
   "display_name": "ppchem",
   "language": "python",
   "name": "python3"
  },
  "language_info": {
   "codemirror_mode": {
    "name": "ipython",
    "version": 3
   },
   "file_extension": ".py",
   "mimetype": "text/x-python",
   "name": "python",
   "nbconvert_exporter": "python",
   "pygments_lexer": "ipython3",
   "version": "3.10.14"
  }
 },
 "nbformat": 4,
 "nbformat_minor": 2
}
