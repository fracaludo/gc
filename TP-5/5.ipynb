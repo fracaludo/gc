{
 "cells": [
  {
   "cell_type": "code",
   "execution_count": 1,
   "metadata": {},
   "outputs": [
    {
     "name": "stdout",
     "output_type": "stream",
     "text": [
      "Required transfer area A: 80.2505 m²\n",
      "Area per tube (D = 3 cm, L = 0.6 m): 0.0565 m²\n",
      "Number of tubes needed: 1420\n"
     ]
    },
    {
     "name": "stderr",
     "output_type": "stream",
     "text": [
      "/var/folders/h_/r3lv2bc576qbm4jbyp94hfxr0000gn/T/ipykernel_87674/850248306.py:29: DeprecationWarning: Conversion of an array with ndim > 0 to a scalar is deprecated, and will error in future. Ensure you extract a single element from your array before performing this operation. (Deprecated NumPy 1.25.)\n",
      "  A = float(A)\n"
     ]
    }
   ],
   "source": [
    "import numpy as np\n",
    "from scipy.optimize import fsolve\n",
    "\n",
    "# Given constants\n",
    "Q_L = 1000 / 60 / 1000  # m³/s (from 1000 L/min)\n",
    "mu = 1e-3               # Pa·s\n",
    "rho = 998               # kg/m³\n",
    "g = 9.81                # m/s²\n",
    "D_O2_water = 2e-9       # m²/s\n",
    "L = 0.6                 # m\n",
    "m = 0.0318              # Henry's constant (dimensionless)\n",
    "CO2_G = 8.59            # mol/m³ (O2 in gas)\n",
    "CO2_in_mgL = 5          # mg/L\n",
    "CO2_out_mgL = 8         # mg/L\n",
    "\n",
    "# Convert mg/L to mol/m³ (O2 molar mass = 32 g/mol = 32,000 mg/mol)\n",
    "CO2_in = CO2_in_mgL / 32000 * 1e3  # mol/m³\n",
    "CO2_out = CO2_out_mgL / 32000 * 1e3  # mol/m³\n",
    "\n",
    "# Compute NO2 (molar flow rate of O2)\n",
    "NO2 = Q_L * (CO2_out - CO2_in)  # mol/s\n",
    "\n",
    "# Terminal velocity helper\n",
    "def vz_max(delta):\n",
    "    return rho * g * delta**2 / (2 * mu)\n",
    "\n",
    "# Main function to solve: returns the error in NO2\n",
    "def equation_to_solve(A):\n",
    "    A = float(A)\n",
    "    delta = (3 * mu * Q_L / (g * rho * A))**(1/3)\n",
    "    vz = vz_max(delta)\n",
    "    CO2_Li = NO2 * np.sqrt(np.pi * L) / (A * np.sqrt(2 * D_O2_water * vz))\n",
    "    ln_term = np.log((CO2_Li - CO2_in) / (CO2_Li - CO2_out))\n",
    "    kg = m * Q_L / A * ln_term\n",
    "    NO2_calc = A * kg * (CO2_G - m * CO2_Li)\n",
    "    return NO2_calc - NO2\n",
    "\n",
    "# Initial guess for A\n",
    "A_guess = 0.1\n",
    "\n",
    "# Solve for A\n",
    "A_solution = fsolve(equation_to_solve, A_guess)[0]\n",
    "\n",
    "# Calculate required number of tubes if each has D = 0.03 m and L = 0.6 m\n",
    "D_tube = 0.03\n",
    "A_tube = np.pi * D_tube * L\n",
    "n_tubes = np.ceil(A_solution / A_tube)\n",
    "\n",
    "# Output results\n",
    "print(f\"Required transfer area A: {A_solution:.4f} m²\")\n",
    "print(f\"Area per tube (D = 3 cm, L = 0.6 m): {A_tube:.4f} m²\")\n",
    "print(f\"Number of tubes needed: {int(n_tubes)}\")\n"
   ]
  }
 ],
 "metadata": {
  "kernelspec": {
   "display_name": "ppchem",
   "language": "python",
   "name": "python3"
  },
  "language_info": {
   "codemirror_mode": {
    "name": "ipython",
    "version": 3
   },
   "file_extension": ".py",
   "mimetype": "text/x-python",
   "name": "python",
   "nbconvert_exporter": "python",
   "pygments_lexer": "ipython3",
   "version": "3.10.13"
  }
 },
 "nbformat": 4,
 "nbformat_minor": 2
}
